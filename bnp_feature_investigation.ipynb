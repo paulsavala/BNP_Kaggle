{
 "cells": [
  {
   "cell_type": "code",
   "execution_count": 1,
   "metadata": {
    "collapsed": true
   },
   "outputs": [],
   "source": [
    "import pandas as pd\n",
    "import os\n",
    "\n",
    "train_data = pd.read_csv(os.getcwd()+'/data/BNP_data/train.csv')\n",
    "test_data = pd.read_csv(os.getcwd()+'/data/BNP_data/test.csv')\n",
    "\n",
    "# Fill NA values accordingly\n",
    "from sklearn.base import TransformerMixin\n",
    "import numpy as np\n",
    "\n",
    "class DataFrameImputer(TransformerMixin):\n",
    "    def fit(self, X, y=None):\n",
    "        self.fill = pd.Series([X[c].value_counts().index[0]\n",
    "            if X[c].dtype == np.dtype('O') else X[c].median() for c in X],\n",
    "            index=X.columns)\n",
    "        return self\n",
    "    def transform(self, X, y=None):\n",
    "        return X.fillna(self.fill)\n",
    "    \n",
    "train_data = DataFrameImputer().fit_transform(train_data)\n",
    "test_data = DataFrameImputer().fit_transform(test_data)\n",
    "\n",
    "# Convert string values to numeric\n",
    "from sklearn import preprocessing\n",
    "\n",
    "criteria = train_data.dtypes == object\n",
    "object_columns = train_data[criteria.index[criteria]].columns\n",
    "\n",
    "le = preprocessing.LabelEncoder()\n",
    "for col in object_columns:\n",
    "    train_data[col] = le.fit_transform(train_data[col])\n",
    "    test_data[col] = le.fit_transform(test_data[col])\n",
    "\n",
    "# Cross-validation\n",
    "from sklearn import cross_validation\n",
    "X_train = train_data.drop('target', axis=1)\n",
    "Y_train = train_data['target']"
   ]
  },
  {
   "cell_type": "code",
   "execution_count": 30,
   "metadata": {
    "collapsed": false
   },
   "outputs": [],
   "source": [
    "from sklearn.metrics import r2_score\n",
    "import numpy as np\n",
    "\n",
    "cols = X_train.drop('ID', axis=1).columns\n",
    "r2_matrix = np.zeros((len(cols), len(cols)))\n",
    "\n",
    "for i,col1 in enumerate(cols):\n",
    "    for j,col2 in enumerate(cols):\n",
    "        if j <= i:\n",
    "            pass\n",
    "        else:\n",
    "            r2_matrix[(i,j)] = r2_score(X_train[col1], X_train[col2])\n"
   ]
  },
  {
   "cell_type": "code",
   "execution_count": 16,
   "metadata": {
    "collapsed": false
   },
   "outputs": [
    {
     "data": {
      "image/png": "[encoded data removed]",
      "text/plain": [
       "<matplotlib.figure.Figure at 0x1066c3f60>"
      ]
     },
     "metadata": {},
     "output_type": "display_data"
    }
   ],
   "source": [
    "%matplotlib inline\n",
    "\n",
    "from matplotlib import pyplot as plt\n",
    "\n",
    "plt.plot(np.sort(spr_matrix[91]))\n",
    "plt.show()"
   ]
  },
  {
   "cell_type": "code",
   "execution_count": 39,
   "metadata": {
    "collapsed": false
   },
   "outputs": [
    {
     "data": {
      "text/plain": [
       "array([[  7,  45],\n",
       "       [  7,  62],\n",
       "       [ 24,  45],\n",
       "       [ 24,  62],\n",
       "       [ 24,  88],\n",
       "       [ 32,  82],\n",
       "       [ 42, 115],\n",
       "       [ 45,  62]])"
      ]
     },
     "execution_count": 39,
     "metadata": {},
     "output_type": "execute_result"
    }
   ],
   "source": [
    "#np.unravel_index(np.argwhere(r2_matrix > 0.9), r2_matrix.shape)\n",
    "np.argwhere(r2_matrix > 0.9)"
   ]
  },
  {
   "cell_type": "code",
   "execution_count": 55,
   "metadata": {
    "collapsed": false
   },
   "outputs": [
    {
     "data": {
      "text/plain": [
       "0.58697150755738681"
      ]
     },
     "execution_count": 55,
     "metadata": {},
     "output_type": "execute_result"
    }
   ],
   "source": [
    "r2_matrix[(70, 74)]"
   ]
  },
  {
   "cell_type": "code",
   "execution_count": 49,
   "metadata": {
    "collapsed": false
   },
   "outputs": [
    {
     "data": {
      "image/png": "[encoded data removed]",
      "text/plain": [
       "<matplotlib.figure.Figure at 0x1095b3be0>"
      ]
     },
     "metadata": {},
     "output_type": "display_data"
    }
   ],
   "source": [
    "plt.scatter(X_train['v10'], X_train['v31'], alpha=0.1)\n",
    "plt.show()"
   ]
  },
  {
   "cell_type": "code",
   "execution_count": 58,
   "metadata": {
    "collapsed": false
   },
   "outputs": [
    {
     "data": {
      "text/plain": [
       "0.58697150755738681"
      ]
     },
     "execution_count": 58,
     "metadata": {},
     "output_type": "execute_result"
    }
   ],
   "source": [
    "r2_score(X_train['v71'], X_train['v75'])"
   ]
  },
  {
   "cell_type": "code",
   "execution_count": null,
   "metadata": {
    "collapsed": true
   },
   "outputs": [],
   "source": []
  }
 ],
 "metadata": {
  "kernelspec": {
   "display_name": "Python 3",
   "language": "python",
   "name": "python3"
  },
  "language_info": {
   "codemirror_mode": {
    "name": "ipython",
    "version": 3
   },
   "file_extension": ".py",
   "mimetype": "text/x-python",
   "name": "python",
   "nbconvert_exporter": "python",
   "pygments_lexer": "ipython3",
   "version": "3.5.1"
  }
 },
 "nbformat": 4,
 "nbformat_minor": 0
}
