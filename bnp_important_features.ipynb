{
 "cells": [
  {
   "cell_type": "code",
   "execution_count": 1,
   "metadata": {
    "collapsed": true
   },
   "outputs": [],
   "source": [
    "import pandas as pd\n",
    "import os\n",
    "\n",
    "data = pd.read_csv(os.getcwd()+'/data/BNP_data/train.csv')\n",
    "\n",
    "# Fill NA values accordingly\n",
    "from sklearn.base import TransformerMixin\n",
    "import numpy as np\n",
    "\n",
    "class DataFrameImputer(TransformerMixin):\n",
    "    def fit(self, X, y=None):\n",
    "        self.fill = pd.Series([X[c].value_counts().index[0]\n",
    "            if X[c].dtype == np.dtype('O') else X[c].median() for c in X],\n",
    "            index=X.columns)\n",
    "        return self\n",
    "    def transform(self, X, y=None):\n",
    "        return X.fillna(self.fill)\n",
    "    \n",
    "data = DataFrameImputer().fit_transform(data)\n",
    "\n",
    "# Convert string values to numeric\n",
    "from sklearn import preprocessing\n",
    "\n",
    "criteria = data.dtypes == object\n",
    "object_columns = data[criteria.index[criteria]].columns\n",
    "\n",
    "le = preprocessing.LabelEncoder()\n",
    "for col in object_columns:\n",
    "    data[col] = le.fit_transform(data[col])\n",
    "\n",
    "# Cross-validation\n",
    "from sklearn import cross_validation\n",
    "X_train, X_test, Y_train, Y_test = cross_validation.train_test_split(data.drop('target', axis=1), data['target'], \\\n",
    "    test_size=0.33, random_state=5)"
   ]
  },
  {
   "cell_type": "code",
   "execution_count": 47,
   "metadata": {
    "collapsed": false
   },
   "outputs": [],
   "source": [
    "# Create a feature map\n",
    "def create_feature_map(features):\n",
    "    outfile = open('xgb.fmap', 'w')\n",
    "    i = 0\n",
    "    for feat in features:\n",
    "        outfile.write('{0}\\t{1}\\tq\\n'.format(i, feat))\n",
    "        i = i + 1\n",
    "\n",
    "    outfile.close()\n",
    "    \n",
    "create_feature_map(list(X_train.columns[2:]))\n",
    "\n",
    "import xgboost as xgb\n",
    "import operator\n",
    "\n",
    "xgb_params = {'objective': 'reg:linear', 'eta': 0.01, 'max_depth': 6, 'seed': 42, 'eval_metric': 'logloss'}\n",
    "num_rounds = 1000\n",
    "\n",
    "dtrain = xgb.DMatrix(X_train, label = Y_train)\n",
    "gbdt = xgb.train(xgb_params, dtrain, num_rounds)\n",
    "\n",
    "importance = gbdt.get_fscore(fmap = 'xgb.fmap')\n",
    "importance = sorted(importance.items(), key=operator.itemgetter(1))\n",
    "\n",
    "df = pd.DataFrame(importance, columns=['feature', 'fscore'])\n",
    "df['fscore'] = df['fscore'] / df['fscore'].sum()\n",
    "\n",
    "# Grab the most important features\n",
    "imp_features = df[df['fscore'] > 0.005]['feature']\n",
    "\n",
    "# Rewrite the feature map\n",
    "create_feature_map(list(imp_features))"
   ]
  },
  {
   "cell_type": "code",
   "execution_count": 31,
   "metadata": {
    "collapsed": false
   },
   "outputs": [],
   "source": [
    "create_feature_map(list(imp_features))\n",
    "\n",
    "X_train_imp, X_test_imp, Y_train_imp, Y_test_imp = cross_validation.train_test_split(data[imp_features], \\\n",
    "    data['target'], test_size=0.33, random_state=5)\n",
    "\n",
    "xgb_params = {'objective': 'reg:linear', 'eta': 0.01, 'max_depth': 6, 'seed': 42, 'eval_metric': 'logloss'}\n",
    "num_rounds = 10\n",
    "\n",
    "# Format the matrices for xgb\n",
    "dtrain_imp = xgb.DMatrix(X_train_imp, label = Y_train_imp)\n",
    "dtest_imp = xgb.DMatrix(X_test_imp, label = Y_test_imp)\n",
    "gbdt_imp = xgb.train(xgb_params, dtrain_imp, num_rounds)\n",
    "\n",
    "# Get the predicted values for the test data\n",
    "Y_test_pred_imp = gbdt_imp.predict(dtest_imp)\n",
    "Y_test_pred_imp[Y_test_pred_imp > 1] = 1\n",
    "Y_test_pred_imp[Y_test_pred_imp < 0] = 0\n",
    "\n",
    "# ... and again for the training data. Do this to check for overfitting\n",
    "Y_train_pred_imp = gbdt_imp.predict(dtrain_imp)\n",
    "Y_train_pred_imp[Y_train_pred_imp > 1] = 1\n",
    "Y_train_pred_imp[Y_train_pred_imp < 0] = 0"
   ]
  },
  {
   "cell_type": "code",
   "execution_count": 32,
   "metadata": {
    "collapsed": false
   },
   "outputs": [],
   "source": [
    "def logloss(y, p):\n",
    "    N = len(y)\n",
    "    if len(p) != N:\n",
    "        return print('Vectors of unequal length')\n",
    "    \n",
    "    p = np.array([max(min(p_i, 1-10**(-15)), 10**(-15)) for p_i in p])\n",
    "    \n",
    "    summand = y*np.log(p)+(1-y)*np.log(1-p)\n",
    "    ll = -sum(summand)/N\n",
    "    return ll\n"
   ]
  },
  {
   "cell_type": "code",
   "execution_count": 34,
   "metadata": {
    "collapsed": false
   },
   "outputs": [
    {
     "name": "stdout",
     "output_type": "stream",
     "text": [
      "Testing:  0.66566517556\n",
      "Training:  0.665403608775\n"
     ]
    }
   ],
   "source": [
    "logloss(Y_test_imp, Y_test_pred_imp)\n",
    "logloss(Y_train_imp, Y_train_pred_imp)"
   ]
  },
  {
   "cell_type": "code",
   "execution_count": 48,
   "metadata": {
    "collapsed": false
   },
   "outputs": [],
   "source": [
    "test_score = []\n",
    "train_score = []\n",
    "\n",
    "for num_rounds in range(100, 600, 100):\n",
    "    # Format the matrices for xgb\n",
    "    dtrain_imp = xgb.DMatrix(X_train_imp, label = Y_train_imp)\n",
    "    dtest_imp = xgb.DMatrix(X_test_imp, label = Y_test_imp)\n",
    "    gbdt_imp = xgb.train(xgb_params, dtrain_imp, num_rounds)\n",
    "\n",
    "    # Get the predicted values for the test data\n",
    "    Y_test_pred_imp = gbdt_imp.predict(dtest_imp)\n",
    "    Y_test_pred_imp[Y_test_pred_imp > 1] = 1\n",
    "    Y_test_pred_imp[Y_test_pred_imp < 0] = 0\n",
    "\n",
    "    # ... and again for the training data. Do this to check for overfitting\n",
    "    Y_train_pred_imp = gbdt_imp.predict(dtrain_imp)\n",
    "    Y_train_pred_imp[Y_train_pred_imp > 1] = 1\n",
    "    Y_train_pred_imp[Y_train_pred_imp < 0] = 0\n",
    "    \n",
    "    test_score.append(logloss(Y_test_imp, Y_test_pred_imp))\n",
    "    train_score.append(logloss(Y_train_imp, Y_train_pred_imp))"
   ]
  },
  {
   "cell_type": "code",
   "execution_count": 50,
   "metadata": {
    "collapsed": false
   },
   "outputs": [
    {
     "data": {
      "image/png": "[encoded data removed]",
      "text/plain": [
       "<matplotlib.figure.Figure at 0x1079fe438>"
      ]
     },
     "metadata": {},
     "output_type": "display_data"
    }
   ],
   "source": [
    "%matplotlib inline\n",
    "\n",
    "from matplotlib import pyplot as plt\n",
    "\n",
    "plt.scatter(range(100, 600, 100), test_score, color='g', label='Test')\n",
    "plt.scatter(range(100, 600, 100), train_score, color='b', label='Train')\n",
    "plt.legend()\n",
    "plt.show()"
   ]
  },
  {
   "cell_type": "code",
   "execution_count": 45,
   "metadata": {
    "collapsed": true
   },
   "outputs": [],
   "source": [
    "test_score = []\n",
    "train_score = []\n",
    "\n",
    "for max_depth in range(2,11):\n",
    "    xgb_params = {'objective': 'reg:linear', 'eta': 0.01, 'max_depth': 5, 'seed': 42, 'eval_metric': 'logloss'}\n",
    "    # Format the matrices for xgb\n",
    "    dtrain_imp = xgb.DMatrix(X_train_imp, label = Y_train_imp)\n",
    "    dtest_imp = xgb.DMatrix(X_test_imp, label = Y_test_imp)\n",
    "    gbdt_imp = xgb.train(xgb_params, dtrain_imp, 300)\n",
    "\n",
    "    # Get the predicted values for the test data\n",
    "    Y_test_pred_imp = gbdt_imp.predict(dtest_imp)\n",
    "    Y_test_pred_imp[Y_test_pred_imp > 1] = 1\n",
    "    Y_test_pred_imp[Y_test_pred_imp < 0] = 0\n",
    "\n",
    "    # ... and again for the training data. Do this to check for overfitting\n",
    "    Y_train_pred_imp = gbdt_imp.predict(dtrain_imp)\n",
    "    Y_train_pred_imp[Y_train_pred_imp > 1] = 1\n",
    "    Y_train_pred_imp[Y_train_pred_imp < 0] = 0\n",
    "    \n",
    "    test_score.append(logloss(Y_test_imp, Y_test_pred_imp))\n",
    "    train_score.append(logloss(Y_train_imp, Y_train_pred_imp))\n",
    "\n"
   ]
  },
  {
   "cell_type": "code",
   "execution_count": 46,
   "metadata": {
    "collapsed": false
   },
   "outputs": [
    {
     "data": {
      "image/png": "[encoded data removed]",
      "text/plain": [
       "<matplotlib.figure.Figure at 0x10d03f898>"
      ]
     },
     "metadata": {},
     "output_type": "display_data"
    }
   ],
   "source": [
    "plt.scatter(range(2,11), test_score, color='g', label='Test')\n",
    "plt.scatter(range(2,11), train_score, color='b', label='Train')\n",
    "plt.legend()\n",
    "plt.title('max_depth from 2 to 10')\n",
    "plt.show()"
   ]
  },
  {
   "cell_type": "code",
   "execution_count": null,
   "metadata": {
    "collapsed": true
   },
   "outputs": [],
   "source": []
  }
 ],
 "metadata": {
  "kernelspec": {
   "display_name": "Python 3",
   "language": "python",
   "name": "python3"
  },
  "language_info": {
   "codemirror_mode": {
    "name": "ipython",
    "version": 3
   },
   "file_extension": ".py",
   "mimetype": "text/x-python",
   "name": "python",
   "nbconvert_exporter": "python",
   "pygments_lexer": "ipython3",
   "version": "3.5.1"
  }
 },
 "nbformat": 4,
 "nbformat_minor": 0
}
