{
 "cells": [
  {
   "cell_type": "code",
   "execution_count": 2,
   "metadata": {
    "collapsed": true
   },
   "outputs": [],
   "source": [
    "import pandas as pd\n",
    "import os\n",
    "\n",
    "train_data = pd.read_csv(os.getcwd()+'/data/BNP_data/train.csv')\n",
    "test_data = pd.read_csv(os.getcwd()+'/data/BNP_data/test.csv')\n",
    "\n",
    "# Fill NA values accordingly\n",
    "from sklearn.base import TransformerMixin\n",
    "import numpy as np\n",
    "\n",
    "class DataFrameImputer(TransformerMixin):\n",
    "    def fit(self, X, y=None):\n",
    "        self.fill = pd.Series([X[c].value_counts().index[0]\n",
    "            if X[c].dtype == np.dtype('O') else X[c].median() for c in X],\n",
    "            index=X.columns)\n",
    "        return self\n",
    "    def transform(self, X, y=None):\n",
    "        return X.fillna(self.fill)\n",
    "    \n",
    "train_data = DataFrameImputer().fit_transform(train_data)\n",
    "test_data = DataFrameImputer().fit_transform(test_data)\n",
    "\n",
    "# Convert string values to numeric\n",
    "from sklearn import preprocessing\n",
    "\n",
    "criteria = train_data.dtypes == object\n",
    "object_columns = train_data[criteria.index[criteria]].columns\n",
    "\n",
    "le = preprocessing.LabelEncoder()\n",
    "for col in object_columns:\n",
    "    train_data[col] = le.fit_transform(train_data[col])\n",
    "    test_data[col] = le.fit_transform(test_data[col])\n",
    "\n",
    "# Cross-validation\n",
    "from sklearn import cross_validation\n",
    "X_train = train_data.drop('target', axis=1)\n",
    "Y_train = train_data['target']"
   ]
  },
  {
   "cell_type": "code",
   "execution_count": 6,
   "metadata": {
    "collapsed": false
   },
   "outputs": [],
   "source": [
    "import xgboost as xgb\n",
    "\n",
    "eta = 0.01\n",
    "max_depth = 10\n",
    "num_rounds = 1200\n",
    "subsample = 0.8\n",
    "colsample_bytree = 1\n",
    "\n",
    "# Format the matrices for xgb\n",
    "dtrain = xgb.DMatrix(X_train, label = Y_train)\n",
    "dtest = xgb.DMatrix(test_data, label = Y_train)\n",
    "\n",
    "xgb_params = {'objective': 'binary:logistic', 'eta': eta, 'max_depth': max_depth, \\\n",
    "              'eval_metric': 'logloss', 'watchlist': dtrain, 'colsample_bytree': colsample_bytree, \\\n",
    "                'subsample': subsample, 'nthread': 8}\n",
    "\n",
    "gbdt = xgb.train(xgb_params, dtrain, num_rounds)\n",
    "\n",
    "# Get the predicted values for the test data\n",
    "Y_test_pred = gbdt.predict(dtest)\n",
    "Y_test_pred[Y_test_pred > 1] = 1\n",
    "Y_test_pred[Y_test_pred < 0] = 0"
   ]
  },
  {
   "cell_type": "code",
   "execution_count": 7,
   "metadata": {
    "collapsed": false
   },
   "outputs": [],
   "source": [
    "id_test = test_data['ID']\n",
    "pd.DataFrame({\"id\": id_test, \"PredictedProb\": Y_test_pred}).to_csv('bnp_submission_3.csv',index=False)"
   ]
  },
  {
   "cell_type": "markdown",
   "metadata": {
    "collapsed": true
   },
   "source": [
    "Submission 2 - Tuned parameters"
   ]
  },
  {
   "cell_type": "code",
   "execution_count": null,
   "metadata": {
    "collapsed": true
   },
   "outputs": [],
   "source": [
    "eta = 0.01\n",
    "max_depth = 5\n",
    "num_rounds = 400\n",
    "\n",
    "xgb_params = {'objective': 'reg:linear', 'eta': eta, 'max_depth': max_depth, 'seed': 42, 'eval_metric': 'logloss'}\n",
    "\n",
    "# Format the matrices for xgb\n",
    "dtrain = xgb.DMatrix(X_train, label = Y_train)\n",
    "dtest = xgb.DMatrix(test_data, label = Y_train)\n",
    "gbdt = xgb.train(xgb_params, dtrain, num_rounds)\n",
    "\n",
    "# Get the predicted values for the test data\n",
    "Y_test_pred = gbdt.predict(dtest)\n",
    "Y_test_pred[Y_test_pred > 1] = 1\n",
    "Y_test_pred[Y_test_pred < 0] = 0"
   ]
  }
 ],
 "metadata": {
  "kernelspec": {
   "display_name": "Python 3",
   "language": "python",
   "name": "python3"
  },
  "language_info": {
   "codemirror_mode": {
    "name": "ipython",
    "version": 3
   },
   "file_extension": ".py",
   "mimetype": "text/x-python",
   "name": "python",
   "nbconvert_exporter": "python",
   "pygments_lexer": "ipython3",
   "version": "3.5.1"
  }
 },
 "nbformat": 4,
 "nbformat_minor": 0
}
