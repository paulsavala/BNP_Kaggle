{
 "cells": [
  {
   "cell_type": "code",
   "execution_count": 1,
   "metadata": {
    "collapsed": true
   },
   "outputs": [],
   "source": [
    "import pandas as pd\n",
    "import os\n",
    "\n",
    "data = pd.read_csv(os.getcwd()+'/data/BNP_data/train.csv')\n",
    "\n",
    "# Fill NA values accordingly\n",
    "from sklearn.base import TransformerMixin\n",
    "import numpy as np\n",
    "\n",
    "class DataFrameImputer(TransformerMixin):\n",
    "    def fit(self, X, y=None):\n",
    "        self.fill = pd.Series([X[c].value_counts().index[0]\n",
    "            if X[c].dtype == np.dtype('O') else X[c].median() for c in X],\n",
    "            index=X.columns)\n",
    "        return self\n",
    "    def transform(self, X, y=None):\n",
    "        return X.fillna(self.fill)\n",
    "    \n",
    "data = DataFrameImputer().fit_transform(data)\n",
    "\n",
    "# Convert string values to numeric\n",
    "from sklearn import preprocessing\n",
    "\n",
    "criteria = data.dtypes == object\n",
    "object_columns = data[criteria.index[criteria]].columns\n",
    "\n",
    "le = preprocessing.LabelEncoder()\n",
    "for col in object_columns:\n",
    "    data[col] = le.fit_transform(data[col])\n",
    "\n",
    "# Cross-validation\n",
    "from sklearn import cross_validation\n",
    "X_train, X_test, Y_train, Y_test = cross_validation.train_test_split(data.drop('target', axis=1), data['target'], \\\n",
    "    test_size=0.33, random_state=5)"
   ]
  },
  {
   "cell_type": "code",
   "execution_count": 5,
   "metadata": {
    "collapsed": false
   },
   "outputs": [
    {
     "data": {
      "text/plain": [
       "{'target': 2,\n",
       " 'v107': 7,\n",
       " 'v110': 3,\n",
       " 'v129': 10,\n",
       " 'v24': 5,\n",
       " 'v3': 3,\n",
       " 'v30': 7,\n",
       " 'v31': 3,\n",
       " 'v38': 12,\n",
       " 'v47': 10,\n",
       " 'v52': 12,\n",
       " 'v62': 8,\n",
       " 'v66': 3,\n",
       " 'v71': 9,\n",
       " 'v72': 13,\n",
       " 'v74': 3,\n",
       " 'v75': 4,\n",
       " 'v79': 18,\n",
       " 'v91': 7}"
      ]
     },
     "execution_count": 5,
     "metadata": {},
     "output_type": "execute_result"
    }
   ],
   "source": [
    "cat_cols = {}\n",
    "for col_name in data.columns:\n",
    "    unique_count = len(data[col_name].unique())\n",
    "    if unique_count < 20:\n",
    "        cat_cols[col_name] = unique_count\n",
    "\n",
    "cat_cols"
   ]
  },
  {
   "cell_type": "code",
   "execution_count": 9,
   "metadata": {
    "collapsed": true
   },
   "outputs": [],
   "source": [
    "test_group = data[['target', 'v3']].groupby(data['target'])"
   ]
  },
  {
   "cell_type": "code",
   "execution_count": 17,
   "metadata": {
    "collapsed": false
   },
   "outputs": [
    {
     "data": {
      "text/plain": [
       "0.7611987298921458"
      ]
     },
     "execution_count": 17,
     "metadata": {},
     "output_type": "execute_result"
    }
   ],
   "source": [
    "len(test_group.groups[1])/float(data.shape[0])"
   ]
  },
  {
   "cell_type": "code",
   "execution_count": 43,
   "metadata": {
    "collapsed": false
   },
   "outputs": [
    {
     "data": {
      "text/plain": [
       "{}"
      ]
     },
     "execution_count": 43,
     "metadata": {},
     "output_type": "execute_result"
    }
   ],
   "source": [
    "from scipy.stats.stats import normaltest\n",
    "import numpy as np\n",
    "\n",
    "close_to_normal = {}\n",
    "for name in data.drop('target', axis=1).columns:\n",
    "    if normaltest(data[name]).pvalue > 0.05:\n",
    "        close_to_normal[name] = normaltest(data[name])\n",
    "        \n",
    "close_to_normal"
   ]
  },
  {
   "cell_type": "code",
   "execution_count": 38,
   "metadata": {
    "collapsed": false
   },
   "outputs": [
    {
     "data": {
      "text/html": [
       "<div>\n",
       "<table border=\"1\" class=\"dataframe\">\n",
       "  <thead>\n",
       "    <tr style=\"text-align: right;\">\n",
       "      <th></th>\n",
       "      <th>ID</th>\n",
       "      <th>target</th>\n",
       "      <th>v1</th>\n",
       "      <th>v2</th>\n",
       "      <th>v3</th>\n",
       "      <th>v4</th>\n",
       "      <th>v5</th>\n",
       "      <th>v6</th>\n",
       "      <th>v7</th>\n",
       "      <th>v8</th>\n",
       "      <th>...</th>\n",
       "      <th>v122</th>\n",
       "      <th>v123</th>\n",
       "      <th>v124</th>\n",
       "      <th>v125</th>\n",
       "      <th>v126</th>\n",
       "      <th>v127</th>\n",
       "      <th>v128</th>\n",
       "      <th>v129</th>\n",
       "      <th>v130</th>\n",
       "      <th>v131</th>\n",
       "    </tr>\n",
       "  </thead>\n",
       "  <tbody>\n",
       "    <tr>\n",
       "      <th>0</th>\n",
       "      <td>3</td>\n",
       "      <td>1</td>\n",
       "      <td>1.335739</td>\n",
       "      <td>8.727474</td>\n",
       "      <td>2</td>\n",
       "      <td>3.921026</td>\n",
       "      <td>7.915266</td>\n",
       "      <td>2.599278</td>\n",
       "      <td>3.176895</td>\n",
       "      <td>0.012941</td>\n",
       "      <td>...</td>\n",
       "      <td>8.000000</td>\n",
       "      <td>1.989780</td>\n",
       "      <td>0.035754</td>\n",
       "      <td>21</td>\n",
       "      <td>1.804126</td>\n",
       "      <td>3.113719</td>\n",
       "      <td>2.024285</td>\n",
       "      <td>0</td>\n",
       "      <td>0.636365</td>\n",
       "      <td>2.857144</td>\n",
       "    </tr>\n",
       "    <tr>\n",
       "      <th>1</th>\n",
       "      <td>4</td>\n",
       "      <td>1</td>\n",
       "      <td>1.469550</td>\n",
       "      <td>7.023803</td>\n",
       "      <td>2</td>\n",
       "      <td>4.205991</td>\n",
       "      <td>9.191265</td>\n",
       "      <td>2.412790</td>\n",
       "      <td>2.452166</td>\n",
       "      <td>2.301630</td>\n",
       "      <td>...</td>\n",
       "      <td>6.749117</td>\n",
       "      <td>2.739239</td>\n",
       "      <td>0.598896</td>\n",
       "      <td>6</td>\n",
       "      <td>1.614802</td>\n",
       "      <td>2.963620</td>\n",
       "      <td>1.957825</td>\n",
       "      <td>0</td>\n",
       "      <td>1.560138</td>\n",
       "      <td>1.589403</td>\n",
       "    </tr>\n",
       "    <tr>\n",
       "      <th>2</th>\n",
       "      <td>5</td>\n",
       "      <td>1</td>\n",
       "      <td>0.943877</td>\n",
       "      <td>5.310079</td>\n",
       "      <td>2</td>\n",
       "      <td>4.410969</td>\n",
       "      <td>5.326159</td>\n",
       "      <td>3.979592</td>\n",
       "      <td>3.928571</td>\n",
       "      <td>0.019645</td>\n",
       "      <td>...</td>\n",
       "      <td>9.333333</td>\n",
       "      <td>2.477596</td>\n",
       "      <td>0.013452</td>\n",
       "      <td>5</td>\n",
       "      <td>1.773709</td>\n",
       "      <td>3.922193</td>\n",
       "      <td>1.120468</td>\n",
       "      <td>2</td>\n",
       "      <td>0.883118</td>\n",
       "      <td>1.176472</td>\n",
       "    </tr>\n",
       "    <tr>\n",
       "      <th>3</th>\n",
       "      <td>6</td>\n",
       "      <td>1</td>\n",
       "      <td>0.797415</td>\n",
       "      <td>8.304757</td>\n",
       "      <td>2</td>\n",
       "      <td>4.225930</td>\n",
       "      <td>11.627438</td>\n",
       "      <td>2.097700</td>\n",
       "      <td>1.987549</td>\n",
       "      <td>0.171947</td>\n",
       "      <td>...</td>\n",
       "      <td>7.018256</td>\n",
       "      <td>1.812795</td>\n",
       "      <td>0.002267</td>\n",
       "      <td>64</td>\n",
       "      <td>1.415230</td>\n",
       "      <td>2.954381</td>\n",
       "      <td>1.990847</td>\n",
       "      <td>1</td>\n",
       "      <td>1.677108</td>\n",
       "      <td>1.034483</td>\n",
       "    </tr>\n",
       "    <tr>\n",
       "      <th>4</th>\n",
       "      <td>8</td>\n",
       "      <td>1</td>\n",
       "      <td>1.469550</td>\n",
       "      <td>7.023803</td>\n",
       "      <td>2</td>\n",
       "      <td>4.205991</td>\n",
       "      <td>8.670867</td>\n",
       "      <td>2.412790</td>\n",
       "      <td>2.452166</td>\n",
       "      <td>0.386032</td>\n",
       "      <td>...</td>\n",
       "      <td>6.749117</td>\n",
       "      <td>2.739239</td>\n",
       "      <td>0.139864</td>\n",
       "      <td>89</td>\n",
       "      <td>1.614802</td>\n",
       "      <td>2.963620</td>\n",
       "      <td>1.798436</td>\n",
       "      <td>0</td>\n",
       "      <td>1.560138</td>\n",
       "      <td>1.589403</td>\n",
       "    </tr>\n",
       "  </tbody>\n",
       "</table>\n",
       "<p>5 rows × 133 columns</p>\n",
       "</div>"
      ],
      "text/plain": [
       "   ID  target        v1        v2  v3        v4         v5        v6  \\\n",
       "0   3       1  1.335739  8.727474   2  3.921026   7.915266  2.599278   \n",
       "1   4       1  1.469550  7.023803   2  4.205991   9.191265  2.412790   \n",
       "2   5       1  0.943877  5.310079   2  4.410969   5.326159  3.979592   \n",
       "3   6       1  0.797415  8.304757   2  4.225930  11.627438  2.097700   \n",
       "4   8       1  1.469550  7.023803   2  4.205991   8.670867  2.412790   \n",
       "\n",
       "         v7        v8    ...         v122      v123      v124  v125      v126  \\\n",
       "0  3.176895  0.012941    ...     8.000000  1.989780  0.035754    21  1.804126   \n",
       "1  2.452166  2.301630    ...     6.749117  2.739239  0.598896     6  1.614802   \n",
       "2  3.928571  0.019645    ...     9.333333  2.477596  0.013452     5  1.773709   \n",
       "3  1.987549  0.171947    ...     7.018256  1.812795  0.002267    64  1.415230   \n",
       "4  2.452166  0.386032    ...     6.749117  2.739239  0.139864    89  1.614802   \n",
       "\n",
       "       v127      v128  v129      v130      v131  \n",
       "0  3.113719  2.024285     0  0.636365  2.857144  \n",
       "1  2.963620  1.957825     0  1.560138  1.589403  \n",
       "2  3.922193  1.120468     2  0.883118  1.176472  \n",
       "3  2.954381  1.990847     1  1.677108  1.034483  \n",
       "4  2.963620  1.798436     0  1.560138  1.589403  \n",
       "\n",
       "[5 rows x 133 columns]"
      ]
     },
     "execution_count": 38,
     "metadata": {},
     "output_type": "execute_result"
    }
   ],
   "source": [
    "data.head()"
   ]
  },
  {
   "cell_type": "code",
   "execution_count": null,
   "metadata": {
    "collapsed": true
   },
   "outputs": [],
   "source": []
  }
 ],
 "metadata": {
  "kernelspec": {
   "display_name": "Python 3",
   "language": "python",
   "name": "python3"
  },
  "language_info": {
   "codemirror_mode": {
    "name": "ipython",
    "version": 3
   },
   "file_extension": ".py",
   "mimetype": "text/x-python",
   "name": "python",
   "nbconvert_exporter": "python",
   "pygments_lexer": "ipython3",
   "version": "3.5.1"
  }
 },
 "nbformat": 4,
 "nbformat_minor": 0
}
